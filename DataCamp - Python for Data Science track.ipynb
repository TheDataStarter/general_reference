{
 "cells": [
  {
   "cell_type": "markdown",
   "metadata": {},
   "source": [
    "# Dave Ainscough study notes - 2018"
   ]
  },
  {
   "cell_type": "markdown",
   "metadata": {},
   "source": [
    "## Introduction to Python for Data Science"
   ]
  },
  {
   "cell_type": "markdown",
   "metadata": {},
   "source": [
    "https://www.datacamp.com/courses/intro-to-python-for-data-science\n",
    "\n",
    "### Some basic operations on strings and lists"
   ]
  },
  {
   "cell_type": "code",
   "execution_count": 54,
   "metadata": {},
   "outputs": [
    {
     "name": "stdout",
     "output_type": "stream",
     "text": [
      "My list now reads: ['something', 'something_else', 'other_thing', 'more', 'stuff']\n",
      "My original list now reads: ['something', 'something_else', 'other_thing', 'more', 'stuff']\n",
      "The list copy now reads: ['something', 'something_else', 'other_thing', 'more', 'stuff', 'something', 'something_else', 'other_thing', 'more', 'stuff']\n",
      "\n",
      "\n",
      "Copied list is now in the order of: ['stuff', 'stuff', 'something_else', 'something_else', 'something', 'something', 'other_thing', 'other_thing', 'more', 'more']\n",
      "\n",
      "\n",
      "Joined list reads: ['something', 'something_else', 'other_thing', 'more', 'stuff', 'stuff', 'stuff', 'something_else', 'something_else', 'something', 'something', 'other_thing', 'other_thing', 'more', 'more']\n"
     ]
    }
   ],
   "source": [
    "# Python Lists\n",
    "example_list = ['something','something_else','other_thing']   # sample list\n",
    "\n",
    "# add an item to a Python list using the + operator\n",
    "example_list = example_list + ['more','stuff']\n",
    "print('My list now reads: ', end='')\n",
    "print(example_list)\n",
    "\n",
    "# copying the name of a list only copies the reference to the list - list will still be changed in place\n",
    "# anything that edits an item in the list will update the list, regardless of which reference you use to access it\n",
    "# to create a copy of the list, use the list() function\n",
    "list_copy = list(example_list)\n",
    "\n",
    "# you can do some (very limited) mathematical things to Python lists - for anything more complex, use numpy arrays\n",
    "# double a list (which just doubles the number of entries with duplicates)\n",
    "\n",
    "list_copy = list_copy * 2\n",
    "print('My original list now reads: ', end='')\n",
    "print(example_list)\n",
    "print('The list copy now reads: ', end='')\n",
    "print(list_copy)\n",
    "print('\\n')\n",
    "\n",
    "# Because Python lists are ordered, you can meaningfully sort the list in place\n",
    "list_copy = sorted(list_copy, reverse=True)\n",
    "# reverse=True sorts in descening order - leave this out to sort in ascending order (not Python's handling of caps vs lowercase)\n",
    "print('Copied list is now in the order of: ', end='')\n",
    "print(list_copy)\n",
    "print('\\n')\n",
    "\n",
    "# Easy to concatanate two lists:\n",
    "joined_list = example_list + list_copy\n",
    "print('Joined list reads: ', end='')\n",
    "print(joined_list)"
   ]
  },
  {
   "cell_type": "code",
   "execution_count": 55,
   "metadata": {},
   "outputs": [
    {
     "name": "stdout",
     "output_type": "stream",
     "text": [
      "List in uppercase looks like: HERE'S A RANDOM STRING TO PLAY WITH THAT INCLUDES AN ESCAPED CHARACTER\n",
      "\n",
      "\n",
      "There are 8 letter a's in this string\n",
      "\n",
      "\n",
      "The index of 'something_else' is: 1\n",
      "\n",
      "\n",
      "Addended list is now: ['something', 'something_else', 'other_thing', 'heres_more']\n",
      "\n",
      "\n",
      "Reversed list is now: ['heres_more', 'other_thing', 'something_else', 'something']\n",
      "\n",
      "\n"
     ]
    }
   ],
   "source": [
    "# Python Methods\n",
    "example_string = 'Here\\'s a random string to play with that includes an escaped character'    # sample string\n",
    "\n",
    "# .upper() method converts strings to uppercase\n",
    "upper_string = example_string.upper()\n",
    "print('List in uppercase looks like: ', end='')\n",
    "print(upper_string)\n",
    "print('\\n')\n",
    "\n",
    "# also pretty easy to count a specific character, if that's a thing you want to do?\n",
    "no_of_as = example_string.count('a')\n",
    "print('There are ' + str(no_of_as) + ' letter a\\'s in this string')\n",
    "print('\\n')\n",
    "\n",
    "# also easy to use methods on lists\n",
    "example_list = ['something','something_else','other_thing']   # sample list\n",
    "\n",
    "# how to get the index of a particular value\n",
    "print('The index of \\'something_else\\' is: ' + str(example_list.index('something_else')))\n",
    "print('\\n')\n",
    "\n",
    "# another way to add new values to a list\n",
    "example_list.append('heres_more')\n",
    "print('Addended list is now: ', end='')\n",
    "print(example_list)\n",
    "print('\\n')\n",
    "\n",
    "# or to reverse the order of the list\n",
    "example_list.reverse()\n",
    "print('Reversed list is now: ', end='')\n",
    "print(example_list)\n",
    "print('\\n')"
   ]
  },
  {
   "cell_type": "markdown",
   "metadata": {},
   "source": [
    "### Turn on the numpy arrays!"
   ]
  },
  {
   "cell_type": "code",
   "execution_count": 56,
   "metadata": {},
   "outputs": [
    {
     "name": "stdout",
     "output_type": "stream",
     "text": [
      "Here is our list: [5, 6, 3, 2, 5, 7, 5, 7, 4, 7, 4, 7, 8, 4, 4, 4, 2, 9, 0]\n",
      "and now our numpy array: [5 6 3 2 5 7 5 7 4 7 4 7 8 4 4 4 2 9 0]\n",
      "\n",
      "\n",
      "Here is our list: [5, 6, 3, 2, 5, 7, 5, 7, 4, 7, 4, 7, 8, 4, 4, 4, 2, 9, 0, 5, 6, 3, 2, 5, 7, 5, 7, 4, 7, 4, 7, 8, 4, 4, 4, 2, 9, 0]\n",
      "and now our numpy array: [10 12  6  4 10 14 10 14  8 14  8 14 16  8  8  8  4 18  0]\n",
      "\n",
      "\n",
      "My weird new array looks like: [3.33333333 4.         2.         1.33333333 3.33333333 4.66666667\n",
      " 3.33333333 4.66666667 2.66666667 4.66666667 2.66666667 4.66666667\n",
      " 5.33333333 2.66666667 2.66666667 2.66666667 1.33333333 6.\n",
      " 0.        ]\n",
      "...and the merged array looks like: [13.33333333 16.          8.          5.33333333 13.33333333 18.66666667\n",
      " 13.33333333 18.66666667 10.66666667 18.66666667 10.66666667 18.66666667\n",
      " 21.33333333 10.66666667 10.66666667 10.66666667  5.33333333 24.\n",
      "  0.        ]\n",
      "\n",
      "\n",
      "The elements of the array over ten is [ True  True False False  True  True  True  True  True  True  True  True\n",
      "  True  True  True  True False  True False]\n",
      "The subset of the merged array over ten is [13.33333333 16.         13.33333333 18.66666667 13.33333333 18.66666667\n",
      " 10.66666667 18.66666667 10.66666667 18.66666667 21.33333333 10.66666667\n",
      " 10.66666667 10.66666667 24.        ]\n",
      "\n",
      "\n",
      "The ninth element of the array is 18.666666666666668\n",
      "The 6th to 8th elements of the array are [18.66666667 13.33333333 18.66666667]\n"
     ]
    }
   ],
   "source": [
    "# numpy arrays allow for fast and effecient mathematical operations on every item of a list (1D numpy array)\n",
    "# also handles 2D arrays, but not as elegantly as pandas (built on numpy). numpy extensively used in CV transformations, but\n",
    "# probably less useful than pandas dataframes on a day-to-day basis. Subject to change as I learn more!\n",
    "import numpy as np\n",
    "\n",
    "# I'll create a sample list of integers to demonstrate\n",
    "ex_list = [5,6,3,2,5,7,5,7,4,7,4,7,8,4,4,4,2,9,0]\n",
    "\n",
    "# convert this list into a numpy array\n",
    "np_array = np.array(ex_list)\n",
    "print('Here is our list: ', end='')\n",
    "print(ex_list)\n",
    "print('and now our numpy array: ', end='')\n",
    "print(np_array)\n",
    "print('\\n')\n",
    "\n",
    "# now, let's multiply both by two\n",
    "ex_list = ex_list * 2\n",
    "np_array = np_array * 2\n",
    "print('Here is our list: ', end='')\n",
    "print(ex_list)\n",
    "print('and now our numpy array: ', end='')\n",
    "print(np_array)\n",
    "print('\\n')\n",
    "# as we saw before, multiplying a list just makes duplicate values in a longer list. Numpy array did element operation and \n",
    "# multiplied each element in the array. Useful!\n",
    "\n",
    "# unlike copying lists (using list()), numpy has a copy method\n",
    "second_array = np.copy(np_array)\n",
    "\n",
    "# it's also easy to do mathematical operations on multiple numpy arrays - examples are assuming lists of same size where each\n",
    "# corresponding index refers to the same object\n",
    "# first, I'll edit the second_array a little so it does something useful\n",
    "second_array = second_array/3\n",
    "print('My weird new array looks like: ', end='')\n",
    "print(second_array)\n",
    "merged_array = np_array + second_array\n",
    "print('...and the merged array looks like: ', end='')\n",
    "print(merged_array)\n",
    "print('\\n')\n",
    "\n",
    "# it's also different to subset numpy arrays - will return a Boolean array that meets the criteria, can then use normal []\n",
    "# notation to subset (or whatever else you want to do)\n",
    "third_array = merged_array > 10\n",
    "print('The elements of the array over ten is ', end='')\n",
    "print(third_array)\n",
    "print('The subset of the merged array over ten is ', end='')\n",
    "print(merged_array[third_array])\n",
    "print('\\n')\n",
    "\n",
    "# can also do normal select/slice operations, like you would on a Python list\n",
    "print('The ninth element of the array is ' + str(merged_array[9]))\n",
    "print('The 6th to 8th elements of the array are ' + str(merged_array[5:8]))"
   ]
  },
  {
   "cell_type": "markdown",
   "metadata": {},
   "source": [
    "### And 2d numpy arrays (which might be less generally useful than pandas dataframes?)"
   ]
  },
  {
   "cell_type": "code",
   "execution_count": 71,
   "metadata": {},
   "outputs": [
    {
     "name": "stdout",
     "output_type": "stream",
     "text": [
      "<class 'numpy.ndarray'>\n",
      "(4, 2)\n",
      "\n",
      "\n",
      "One element of this array is 98.5\n",
      "The second column of this array is [ 78.4 102.7  98.5  75.2]\n",
      "Part of the first row of this array is [180.   78.4]\n",
      "\n",
      "\n",
      "The mean of the first column of this array is 198.25\n",
      "The median of the second row of this array is 158.85\n",
      "The standard deviation of the first column of this array is 14.635146053251399\n",
      "\n",
      "\n",
      "The correlation between the two columns is [[1.         0.95865738]\n",
      " [0.95865738 1.        ]]\n",
      "\n",
      "\n"
     ]
    }
   ],
   "source": [
    "# Import numpy\n",
    "import numpy as np\n",
    "\n",
    "# You can create 2d numpy arrays by passing it a list of lists (a Python list where elements of the list are themselves lists)\n",
    "# Going to shamelessly re-use their example list of lists\n",
    "baseball = [[180, 78.4], [215, 102.7], [210, 98.5],[188, 75.2]]\n",
    "\n",
    "# cast this list of lists as a 2d numpy array\n",
    "np_baseball = np.array(baseball)\n",
    "\n",
    "# Lets check the type and shape of our new 2d array\n",
    "print(type(np_baseball))\n",
    "print(np_baseball.shape)\n",
    "print('\\n')\n",
    "\n",
    "# can subset 2d arrays using [] notation, in the format of [row, column]\n",
    "print('One element of this array is ', end='')\n",
    "print(np_baseball[2,1])\n",
    "print('The second column of this array is ', end='')\n",
    "print(np_baseball[:,1])\n",
    "print('Part of the first row of this array is ', end='')\n",
    "print(np_baseball[0, 0:2])\n",
    "print('\\n')\n",
    "\n",
    "# numpy also makes it easy to do some summary stats on parts of your array\n",
    "print('The mean of the first column of this array is ' + str(np.mean(np_baseball[:,0])))\n",
    "print('The median of the second row of this array is ' + str(np.median(np_baseball[1,:])))\n",
    "print('The standard deviation of the first column of this array is ' + str(np.std(np_baseball[:,0])))\n",
    "print('\\n')\n",
    "print('The correlation between the two columns is ' + str(np.corrcoef(np_baseball[:,0] , np_baseball[:,1])))\n",
    "print('\\n')"
   ]
  },
  {
   "cell_type": "markdown",
   "metadata": {},
   "source": [
    "## Intermediate Python for Data Science"
   ]
  },
  {
   "cell_type": "markdown",
   "metadata": {},
   "source": [
    "https://www.datacamp.com/courses/intermediate-python-for-data-science"
   ]
  },
  {
   "cell_type": "markdown",
   "metadata": {},
   "source": [
    "### Straight into matplotlib"
   ]
  },
  {
   "cell_type": "code",
   "execution_count": null,
   "metadata": {},
   "outputs": [],
   "source": []
  }
 ],
 "metadata": {
  "kernelspec": {
   "display_name": "Python 3",
   "language": "python",
   "name": "python3"
  },
  "language_info": {
   "codemirror_mode": {
    "name": "ipython",
    "version": 3
   },
   "file_extension": ".py",
   "mimetype": "text/x-python",
   "name": "python",
   "nbconvert_exporter": "python",
   "pygments_lexer": "ipython3",
   "version": "3.6.4"
  }
 },
 "nbformat": 4,
 "nbformat_minor": 2
}
