{
 "cells": [
  {
   "cell_type": "markdown",
   "metadata": {},
   "source": [
    "# Dave's study notes - learning Python"
   ]
  },
  {
   "cell_type": "markdown",
   "metadata": {},
   "source": [
    "A collection of useful codeblocks and notes in Python3 from the great Automate the Boring Stuff (https://automatetheboringstuff.com/) by Al Sweigart."
   ]
  },
  {
   "cell_type": "markdown",
   "metadata": {},
   "source": [
    "## General bits"
   ]
  },
  {
   "cell_type": "code",
   "execution_count": 1,
   "metadata": {},
   "outputs": [
    {
     "name": "stdout",
     "output_type": "stream",
     "text": [
      "test\n"
     ]
    },
    {
     "data": {
      "text/plain": [
       "'test'"
      ]
     },
     "execution_count": 1,
     "metadata": {},
     "output_type": "execute_result"
    }
   ],
   "source": [
    "input() # prompts for a user input\n",
    "# always returns a string - need to cast it as another type if you want something else"
   ]
  },
  {
   "cell_type": "markdown",
   "metadata": {},
   "source": [
    "### Some mathematical operators"
   ]
  },
  {
   "cell_type": "code",
   "execution_count": 5,
   "metadata": {},
   "outputs": [
    {
     "data": {
      "text/plain": [
       "8"
      ]
     },
     "execution_count": 5,
     "metadata": {},
     "output_type": "execute_result"
    }
   ],
   "source": [
    "2**3       # explonent operator, equivalent of 2 to the 3rd power"
   ]
  },
  {
   "cell_type": "code",
   "execution_count": 6,
   "metadata": {},
   "outputs": [
    {
     "data": {
      "text/plain": [
       "2"
      ]
     },
     "execution_count": 6,
     "metadata": {},
     "output_type": "execute_result"
    }
   ],
   "source": [
    "22//8      # integer division - this result should give 2 (remainers are ignored)"
   ]
  },
  {
   "cell_type": "markdown",
   "metadata": {},
   "source": [
    "+, -, *, and / work as expected as well"
   ]
  },
  {
   "cell_type": "markdown",
   "metadata": {},
   "source": [
    "Boolean results return as either True or False - note caps\n",
    "These also are NOT strings, so NOT 'True' and 'False' - Boolean type, not a string\n",
    "Usual Boolean operators are in effect:\n",
    "- x and y - will return True if both x and y are True\n",
    "- x or y - will return True if either x or y (or both) are True\n",
    "- not x - will return the opposite - if x is True, will return False\n",
    "\n",
    "Will be executed in the order of _not_ before _and_ before _or_"
   ]
  },
  {
   "cell_type": "markdown",
   "metadata": {},
   "source": [
    "Worth remembering the difference between:\n",
    "- == operator that evaluates equivalence (eg. x == y asks whether x is equal to y)\n",
    "- = operator is for assignment (eg. x = y sets the value of x to the value of y)"
   ]
  },
  {
   "cell_type": "markdown",
   "metadata": {},
   "source": [
    "## Flow control (logical looping)"
   ]
  },
  {
   "cell_type": "code",
   "execution_count": 8,
   "metadata": {},
   "outputs": [
    {
     "name": "stdout",
     "output_type": "stream",
     "text": [
      "Hello\n"
     ]
    }
   ],
   "source": [
    "# if loops\n",
    "# if (condition):\n",
    "#   expression\n",
    "# else:\n",
    "#   expression\n",
    "\n",
    "if True:\n",
    "    print('Hello')\n",
    "else:\n",
    "    print('This will never be triggered')\n"
   ]
  },
  {
   "cell_type": "code",
   "execution_count": 10,
   "metadata": {},
   "outputs": [
    {
     "name": "stdout",
     "output_type": "stream",
     "text": [
      "Hello\n"
     ]
    }
   ],
   "source": [
    "## can also do else if extensions using elif\n",
    "if True:\n",
    "    print('Hello')\n",
    "elif False:\n",
    "    print('Fancy! But useless in this case')\n",
    "else:\n",
    "    print('This will never be triggered')\n"
   ]
  },
  {
   "cell_type": "code",
   "execution_count": 14,
   "metadata": {},
   "outputs": [
    {
     "name": "stdout",
     "output_type": "stream",
     "text": [
      "1\n",
      "2\n",
      "3\n",
      "4\n"
     ]
    }
   ],
   "source": [
    "# while loops\n",
    "# while (condition):\n",
    "#    expression\n",
    "    \n",
    "# be careful of infinite loops!\n",
    "i=1\n",
    "while i<5:\n",
    "    print(i)\n",
    "    i = i+1\n",
    "    "
   ]
  },
  {
   "cell_type": "code",
   "execution_count": 15,
   "metadata": {},
   "outputs": [
    {
     "name": "stdout",
     "output_type": "stream",
     "text": [
      "We've made an infinite loop!\n"
     ]
    }
   ],
   "source": [
    "# can also use while loops that use the break and continue commands\n",
    "# while (condition):\n",
    "#   expression\n",
    "#   break               # once reached, jump to end of loop\n",
    "#   OR continue         # once reached, jump to start of loop (and start from initial condition)\n",
    "\n",
    "i=1\n",
    "while i<5:\n",
    "    print(\"We've made an infinite loop!\")\n",
    "    break  # wait, saved it\n"
   ]
  },
  {
   "cell_type": "code",
   "execution_count": 16,
   "metadata": {},
   "outputs": [
    {
     "name": "stdout",
     "output_type": "stream",
     "text": [
      "0\n",
      "1\n",
      "2\n",
      "3\n",
      "4\n"
     ]
    }
   ],
   "source": [
    "# for loop (usually using range())\n",
    "# creates a loop that runs a set number of times (even if the set number is being set dynamically)\n",
    "\n",
    "# for i in range(# of times to loop):\n",
    "#   expression\n",
    "\n",
    "for i in range(5):\n",
    "    print(i)"
   ]
  },
  {
   "cell_type": "markdown",
   "metadata": {},
   "source": [
    "The _range()_ function can take up to three arguments:\n",
    "- range(5)             # count 0,1,2,3,4 (as per example above)\n",
    "- range(2,6)           # counts from 2 to 6 - 2,3,4,5\n",
    "- range(2,10,2)        # counts from 2 to 10 in increments of 2 - 2,4,6,8"
   ]
  },
  {
   "cell_type": "markdown",
   "metadata": {},
   "source": [
    "# Functions"
   ]
  },
  {
   "cell_type": "code",
   "execution_count": 21,
   "metadata": {},
   "outputs": [
    {
     "name": "stdout",
     "output_type": "stream",
     "text": [
      "What the?\n",
      "What the? or something like that\n"
     ]
    }
   ],
   "source": [
    "# defining custom functions is pretty simple, syntax is:\n",
    "\n",
    "# def functionName():\n",
    "#   contents of function\n",
    "\n",
    "# or\n",
    "\n",
    "# def functionName(arg1, arg2, argEtc):\n",
    "#   contents of function that uses these arguments\n",
    "\n",
    "# Python uses one global, many local scopes - if you want to escape something back out of a local scope, use:\n",
    "# return(whatever)\n",
    "\n",
    "def testFunction(textToPrint):\n",
    "    print(textToPrint)\n",
    "    textToPrint = textToPrint + ' or something like that'\n",
    "    return(textToPrint)\n",
    "\n",
    "someBlob = 'What the?'\n",
    "newBlob = testFunction(someBlob)\n",
    "print(newBlob)"
   ]
  },
  {
   "cell_type": "code",
   "execution_count": 25,
   "metadata": {},
   "outputs": [
    {
     "name": "stdout",
     "output_type": "stream",
     "text": [
      "40\n"
     ]
    }
   ],
   "source": [
    "# because of how functions and arguments work, you can usually optimise function calls into a single line that\n",
    "# does the same thing.\n",
    "# For example:\n",
    "\n",
    "def getAnswer(r):            # just setting up a custom function to demonstrate\n",
    "    r = r*5\n",
    "    return(r)\n",
    "\n",
    "\n",
    "import random                 # importing the random package\n",
    "r = random.randint(1,9)       # Note how you call package functions. This generates a random int between 1 and 9\n",
    "fortune = getAnswer(r)        # passes it random\n",
    "print(fortune)                # prints result"
   ]
  },
  {
   "cell_type": "code",
   "execution_count": 27,
   "metadata": {},
   "outputs": [
    {
     "name": "stdout",
     "output_type": "stream",
     "text": [
      "45\n"
     ]
    }
   ],
   "source": [
    "# can do the same thing in one line:\n",
    "\n",
    "def getAnswer(r):            # same function\n",
    "    r = r*5\n",
    "    return(r)\n",
    "\n",
    "\n",
    "import random \n",
    "print(getAnswer(random.randint(1,9)))"
   ]
  },
  {
   "cell_type": "markdown",
   "metadata": {},
   "source": [
    "Covered above, but you import packages using:\n",
    "- import packageName\n",
    "\n",
    "And use functions/methods from packages using:\n",
    "- packageName.functionName()"
   ]
  },
  {
   "cell_type": "markdown",
   "metadata": {},
   "source": [
    "### None"
   ]
  },
  {
   "cell_type": "markdown",
   "metadata": {},
   "source": [
    "Python's equivalent to null is _None_\n",
    "Any function that doesn't return an argument (that is, function is performed in place) secretly returns a None behind the scenes"
   ]
  },
  {
   "cell_type": "code",
   "execution_count": 28,
   "metadata": {},
   "outputs": [
    {
     "name": "stdout",
     "output_type": "stream",
     "text": [
      "Hello\n",
      "None\n"
     ]
    }
   ],
   "source": [
    "# for example:\n",
    "\n",
    "test = print('Hello')\n",
    "print(test)"
   ]
  },
  {
   "cell_type": "markdown",
   "metadata": {},
   "source": [
    "### Scope of variables (global and local)"
   ]
  },
  {
   "cell_type": "markdown",
   "metadata": {},
   "source": [
    "- local variables are destroyed when local function ends (strictly locally scoped)\n",
    "- local blocks can access global variables using:\n",
    "- _global variableName_ \n",
    "within the local function\n",
    "- if you don't do this, will create a new local variable, even if named the same as a global variable"
   ]
  },
  {
   "cell_type": "markdown",
   "metadata": {},
   "source": [
    "### Error handling"
   ]
  },
  {
   "cell_type": "code",
   "execution_count": 29,
   "metadata": {},
   "outputs": [],
   "source": [
    "# good practice when giving users the ability to control something!\n",
    "# uses a try... except format to catch errors:\n",
    "\n",
    "# try (condition):\n",
    "#   something\n",
    "# except someErrorCode:\n",
    "#   do something else\n",
    "\n",
    "# if the except block is triggered, the overall flow control is exited (won't resume loop from that point)"
   ]
  },
  {
   "cell_type": "markdown",
   "metadata": {},
   "source": [
    "## Practice Exercise - Collatz sequence"
   ]
  },
  {
   "cell_type": "markdown",
   "metadata": {},
   "source": [
    "Write a function named collatz() that has one parameter named number. If number is even, then collatz() should print number // 2 and return this value. If number is odd, then collatz() should print and return 3 * number + 1. Then write a program that lets the user type in an integer and that keeps calling collatz() on that number until the function returns the value 1. (Amazingly enough, this sequence actually works for any integer—sooner or later, using this sequence, you’ll arrive at 1! Even mathematicians aren’t sure why. Your program is exploring what’s called the Collatz sequence, sometimes called “the simplest impossible math problem.”)\n",
    "\n",
    "Remember to convert the return value from input() to an integer with the int() function; otherwise, it will be a string value."
   ]
  },
  {
   "cell_type": "code",
   "execution_count": 37,
   "metadata": {
    "scrolled": false
   },
   "outputs": [
    {
     "name": "stdout",
     "output_type": "stream",
     "text": [
      "63\n",
      "190\n",
      "95\n",
      "286\n",
      "143\n",
      "430\n",
      "215\n",
      "646\n",
      "323\n",
      "970\n",
      "485\n",
      "1456\n",
      "728\n",
      "364\n",
      "182\n",
      "91\n",
      "274\n",
      "137\n",
      "412\n",
      "206\n",
      "103\n",
      "310\n",
      "155\n",
      "466\n",
      "233\n",
      "700\n",
      "350\n",
      "175\n",
      "526\n",
      "263\n",
      "790\n",
      "395\n",
      "1186\n",
      "593\n",
      "1780\n",
      "890\n",
      "445\n",
      "1336\n",
      "668\n",
      "334\n",
      "167\n",
      "502\n",
      "251\n",
      "754\n",
      "377\n",
      "1132\n",
      "566\n",
      "283\n",
      "850\n",
      "425\n",
      "1276\n",
      "638\n",
      "319\n",
      "958\n",
      "479\n",
      "1438\n",
      "719\n",
      "2158\n",
      "1079\n",
      "3238\n",
      "1619\n",
      "4858\n",
      "2429\n",
      "7288\n",
      "3644\n",
      "1822\n",
      "911\n",
      "2734\n",
      "1367\n",
      "4102\n",
      "2051\n",
      "6154\n",
      "3077\n",
      "9232\n",
      "4616\n",
      "2308\n",
      "1154\n",
      "577\n",
      "1732\n",
      "866\n",
      "433\n",
      "1300\n",
      "650\n",
      "325\n",
      "976\n",
      "488\n",
      "244\n",
      "122\n",
      "61\n",
      "184\n",
      "92\n",
      "46\n",
      "23\n",
      "70\n",
      "35\n",
      "106\n",
      "53\n",
      "160\n",
      "80\n",
      "40\n",
      "20\n",
      "10\n",
      "5\n",
      "16\n",
      "8\n",
      "4\n",
      "2\n",
      "1\n",
      "Your number is now 1\n",
      "You started with 63 and I have given you 1!\n"
     ]
    }
   ],
   "source": [
    "def collatz(number):\n",
    "    while number != 1:\n",
    "        if number % 2 == 0:\n",
    "            number = number//2\n",
    "            print(number)\n",
    "        else:\n",
    "            number = 3 * number + 1\n",
    "            print(number)\n",
    "    print('Your number is now ' + str(number))\n",
    "    return(number)\n",
    "\n",
    "number = int(input())\n",
    "newNumber = collatz(number)\n",
    "print('You started with ' + str(number) + ' and I have given you ' + str(newNumber) + '!')\n",
    "\n",
    "# going to test this program with.... 63?"
   ]
  },
  {
   "cell_type": "markdown",
   "metadata": {},
   "source": [
    "# Lists"
   ]
  },
  {
   "cell_type": "markdown",
   "metadata": {},
   "source": [
    "- Lists are represented using []s\n",
    "- can access using index (starts at 0 and counts up by each item in the list - lists are therefore ordered)\n",
    "- example - listName[2] will access the third element in the list (0,1,2)\n",
    "- can subset a list using the slice function, which looks like listName[x:y]\n",
    "- x is the first element to slice at\n",
    "- y is the last\n",
    "\n",
    "\n",
    "- can also slice from the beginning (using [:y] ) or from the end (using [x:] )\n",
    "- you can also select/slice indexes from the end of the list by using negative index values:\n",
    "- listName[-1] would return the last item in the list, [-2] the second last, and so on\n",
    "\n",
    "\n",
    "- useful function is len(listName), which returns the size of the list (that is, the number of entries)\n",
    "\n",
    "\n",
    "- you can delete entries from a list using \n",
    "- del listName[index#]\n",
    "- this will delete in place, and automatically move everything later in the list up by one\n",
    "\n",
    "\n",
    "- you can add new items to the list using normal concatanation:\n",
    "- listName = listName + [item to add]"
   ]
  },
  {
   "cell_type": "markdown",
   "metadata": {},
   "source": [
    "### Lists and for loops"
   ]
  },
  {
   "cell_type": "code",
   "execution_count": 40,
   "metadata": {},
   "outputs": [
    {
     "name": "stdout",
     "output_type": "stream",
     "text": [
      "cat\n",
      "dog\n",
      "turtle\n",
      "elephant\n"
     ]
    }
   ],
   "source": [
    "# a common approach when you need to do something to everything in a list is to use range() and len() to\n",
    "# drive a for loop that does something as many times as there are items in the list. It looks like:\n",
    "\n",
    "# for i in range(len(listName)):\n",
    "#    something to listName[i] item\n",
    "\n",
    "# example\n",
    "spam = ['cat','dog','turtle','elephant']  # create an example list\n",
    "for i in range(len(spam)):                # magic code\n",
    "    print(spam[i])                        # do something"
   ]
  },
  {
   "cell_type": "code",
   "execution_count": 45,
   "metadata": {},
   "outputs": [
    {
     "data": {
      "text/plain": [
       "True"
      ]
     },
     "execution_count": 45,
     "metadata": {},
     "output_type": "execute_result"
    }
   ],
   "source": [
    "# you can also use in and not in to return a Boolean value whether an item is in the list or not\n",
    "\n",
    "spam = ['cat','dog','turtle','elephant']  # create an example list\n",
    "'cat' in spam"
   ]
  },
  {
   "cell_type": "markdown",
   "metadata": {},
   "source": [
    "## Practice exercise - comma code"
   ]
  },
  {
   "cell_type": "markdown",
   "metadata": {},
   "source": [
    "Say you have a list value like this:\n",
    "spam = ['apples', 'bananas', 'tofu', 'cats']\n",
    "Write a function that takes a list value as an argument and returns a string with all the items separated by a comma and a space, with and inserted before the last item. For example, passing the previous spam list to the function would return 'apples, bananas, tofu, and cats'. But your function should be able to work with any list value passed to it."
   ]
  },
  {
   "cell_type": "code",
   "execution_count": 12,
   "metadata": {},
   "outputs": [
    {
     "name": "stdout",
     "output_type": "stream",
     "text": [
      "apples, bananas, tofu, and cats.\n"
     ]
    }
   ],
   "source": [
    "spam = ['apples', 'bananas', 'tofu', 'cats']  # list from the exercise\n",
    "\n",
    "def commaCode(listicle):\n",
    "    for i in range(int(len(listicle)) - 1):\n",
    "     print(str(listicle[i]) + ', ', end='')\n",
    "    print('and ' + str(listicle[i+1]) + '.')\n",
    "\n",
    "    commaCode(spam)"
   ]
  },
  {
   "cell_type": "markdown",
   "metadata": {},
   "source": [
    "## Methods"
   ]
  },
  {
   "cell_type": "markdown",
   "metadata": {},
   "source": [
    "Same as functions, except called directly on a value\n",
    "For example - something.index() calls the index method"
   ]
  },
  {
   "cell_type": "code",
   "execution_count": 23,
   "metadata": {},
   "outputs": [
    {
     "name": "stdout",
     "output_type": "stream",
     "text": [
      "The index method\n",
      "2\n",
      "The append method\n",
      "['apples', 'bananas', 'tofu', 'cats', 'Daigo']\n",
      "The insert method\n",
      "['apples', 'bananas', 'ChrisG', 'tofu', 'cats', 'Daigo']\n",
      "The remove method\n",
      "['apples', 'bananas', 'tofu', 'cats', 'Daigo']\n",
      "The del function\n",
      "['apples', 'bananas', 'tofu', 'cats']\n",
      "The sort() method\n",
      "['apples', 'bananas', 'cats', 'tofu']\n",
      "['tofu', 'cats', 'bananas', 'apples']\n"
     ]
    }
   ],
   "source": [
    "spam = ['apples', 'bananas', 'tofu', 'cats']  # list from the exercise\n",
    "\n",
    "# .index() method\n",
    "# if you pass it a value, it will return the FIRST index (assuming it exists in the list)\n",
    "# if it's not in the list, it will return a ValueError\n",
    "# will not return multiple indexes if the value is in the list multiple times\n",
    "\n",
    "print('The index method')\n",
    "print(spam.index('tofu'))\n",
    "\n",
    "# the .append() method\n",
    "# insets a new value at the end of the list\n",
    "# edits list in place, returns None\n",
    "\n",
    "print('The append method')\n",
    "spam.append('Daigo')\n",
    "print(spam)\n",
    "\n",
    "# the .insert() method\n",
    "# takes two arguments\n",
    "# - the index where to insert the new value\n",
    "# - the new value to insert\n",
    "# edits list in place, returns None\n",
    "\n",
    "print('The insert method')\n",
    "spam.insert(2, 'ChrisG')\n",
    "print(spam)\n",
    "\n",
    "# the .remove() method and del function\n",
    "# called with the value to remove (not the index of the thing to remove, that's a separate function (not method) called del)\n",
    "# if the value to remove is not in the list, will return a ValueError\n",
    "# will only remove the first instance if there are more than one\n",
    "\n",
    "print('The remove method')\n",
    "spam.remove('ChrisG')\n",
    "print(spam)\n",
    "\n",
    "print('The del function')\n",
    "del spam[-1]\n",
    "print(spam)\n",
    "\n",
    "# the .sort() method\n",
    "# will sort in ascending order - note not quite alphabetical order!\n",
    "# setting the reverse=True flag will sort in reverse order\n",
    "\n",
    "print('The sort() method')\n",
    "spam.sort()\n",
    "print(spam)\n",
    "spam.sort(reverse=True)\n",
    "print(spam)\n",
    "\n",
    "# if the list has both numbers and strings, will return a TyoeError\n",
    "# this method sorts strings A-Z, then a-z\n",
    "# can force alphabetical order by calling\n",
    "# spam.sort(key=str.lower)   # treats all strings as though they were lower case for sorting purposes, doesn't change strings"
   ]
  },
  {
   "cell_type": "code",
   "execution_count": 26,
   "metadata": {},
   "outputs": [
    {
     "data": {
      "text/plain": [
       "'cats'"
      ]
     },
     "execution_count": 26,
     "metadata": {},
     "output_type": "execute_result"
    }
   ],
   "source": [
    "# a cool trick is to select a random value from a list\n",
    "\n",
    "import random                                 # import random package\n",
    "spam = ['apples', 'bananas', 'tofu', 'cats']  # list from the exercise\n",
    "spam[random.randint(0,len(spam)-1)]           # select a random integer between zero and length of list - 1, use as index\n"
   ]
  },
  {
   "cell_type": "markdown",
   "metadata": {},
   "source": [
    "- Lists are mutable - that is, values within a list can be easily changed\n",
    "- There is an immutable form of list - _tuples_\n",
    "- tuples use () instead of []\n",
    "- strings are actually kind of like tuples of characters, and can be accessed using the same .index() and similar methods\n"
   ]
  },
  {
   "cell_type": "code",
   "execution_count": null,
   "metadata": {},
   "outputs": [],
   "source": []
  }
 ],
 "metadata": {
  "kernelspec": {
   "display_name": "Python 3",
   "language": "python",
   "name": "python3"
  },
  "language_info": {
   "codemirror_mode": {
    "name": "ipython",
    "version": 3
   },
   "file_extension": ".py",
   "mimetype": "text/x-python",
   "name": "python",
   "nbconvert_exporter": "python",
   "pygments_lexer": "ipython3",
   "version": "3.6.4"
  }
 },
 "nbformat": 4,
 "nbformat_minor": 2
}
