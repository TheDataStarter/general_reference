{
 "cells": [
  {
   "cell_type": "markdown",
   "metadata": {},
   "source": [
    "## Useful R codeblocks discovered through UQ DATA7001 - Intro to Data Science\n",
    "### David Ainscough"
   ]
  },
  {
   "cell_type": "markdown",
   "metadata": {},
   "source": [
    "### For new installs of R/RStudio/etc - get the tidyverse library. It includes\n",
    "- ggplot2, for data visualisation.\n",
    "- dplyr, for data manipulation.\n",
    "- tidyr, for data tidying.\n",
    "- readr, for data import.\n",
    "- purrr, for functional programming.\n",
    "- tibble, for tibbles, a modern re-imagining of data frames.\n",
    "- stringr, for strings.\n",
    "- forcats, for factors."
   ]
  },
  {
   "cell_type": "code",
   "execution_count": 1,
   "metadata": {},
   "outputs": [],
   "source": [
    "# install.packages(\"tidyverse\")"
   ]
  },
  {
   "cell_type": "markdown",
   "metadata": {},
   "source": [
    "### Per session/notebook - initialise needed libraries"
   ]
  },
  {
   "cell_type": "code",
   "execution_count": 2,
   "metadata": {},
   "outputs": [
    {
     "name": "stderr",
     "output_type": "stream",
     "text": [
      "Warning message:\n",
      "\"package 'readr' was built under R version 3.4.4\"\n",
      "Attaching package: 'dplyr'\n",
      "\n",
      "The following objects are masked from 'package:stats':\n",
      "\n",
      "    filter, lag\n",
      "\n",
      "The following objects are masked from 'package:base':\n",
      "\n",
      "    intersect, setdiff, setequal, union\n",
      "\n"
     ]
    }
   ],
   "source": [
    "# Either\n",
    "library(readr)\n",
    "library(dplyr)\n",
    "\n",
    "# Or\n",
    "# library(tidyverse)\n",
    "# which includes the two above, but is slightly more wasteful."
   ]
  },
  {
   "cell_type": "markdown",
   "metadata": {},
   "source": [
    "### Import some CSV's to work with\n",
    "\n",
    "In almost every case, it's worth using the GUI file import feature in RStudio to do the import first, make sure columns are mapped directly, manually exclude columns that aren't needed. You can then copy the R code from RStudio's import into the Notebook to make it easily repeatable. If you need to code it manually, samples are:"
   ]
  },
  {
   "cell_type": "code",
   "execution_count": 6,
   "metadata": {},
   "outputs": [],
   "source": [
    "# Either import the dataset as-is\n",
    "# data_frame_1 <- read_csv(\"Directory/filename.csv\")\n",
    "\n",
    "# Or import exluding some columns (if known up-front)\n",
    "# data_frame_1 <- read_csv(\"Directory/filename.csv\", col_types = cols(col_to_exclude = col_skip(), 2nd_col_to_ex = col_skip())"
   ]
  },
  {
   "cell_type": "markdown",
   "metadata": {},
   "source": [
    "To join different CSVs together on a common reference (like stop_ID for GTFS data, SA2Code for ABS data, etc):"
   ]
  },
  {
   "cell_type": "code",
   "execution_count": 15,
   "metadata": {},
   "outputs": [],
   "source": [
    "# For an inner join (only keep rows that are represented in both dataframes)\n",
    "# joined_df <- join(data_frame_1, data_frame_2, by=\"stop_id\", type=\"inner\")\n",
    "\n",
    "# For a merge, which I believe keeps all rows (ie. same as full outer join)\n",
    "# joined_df <- merge(data_frame_1, data_frame_2, by = \"SA2Code\")"
   ]
  },
  {
   "cell_type": "markdown",
   "metadata": {},
   "source": [
    "Depending on the dataset/s, you'll probably want to do some aggregation to get the data to a level where it's going to be actually useful."
   ]
  },
  {
   "cell_type": "code",
   "execution_count": 16,
   "metadata": {},
   "outputs": [],
   "source": [
    "# result_df <- data_frame_1 %>% group_by(var1, var2, var3) %>% summarise(var_to_count = sum(var_to_count))"
   ]
  },
  {
   "cell_type": "code",
   "execution_count": 17,
   "metadata": {},
   "outputs": [],
   "source": [
    "# Remove rows with missing values\n",
    "# data_frame_1 <- data_frame_1[complete.cases(data_frame_1), ]"
   ]
  },
  {
   "cell_type": "code",
   "execution_count": 18,
   "metadata": {},
   "outputs": [],
   "source": [
    "# add a new column based on existing columns - can do whatever with as many variables as you need\n",
    "# data_frame_1$new_column_name <- with(data_frame_1, var1 + var2)"
   ]
  },
  {
   "cell_type": "code",
   "execution_count": 19,
   "metadata": {},
   "outputs": [],
   "source": [
    "# write out data frame as a CSV to do more stuff with (usually import into Tableau for VEDA, plotting, whatever)\n",
    "# write.csv(data_frame_1,\"filename.csv\", row.names = FALSE)"
   ]
  },
  {
   "cell_type": "code",
   "execution_count": 20,
   "metadata": {},
   "outputs": [],
   "source": [
    "# subset the data based on matching values\n",
    "# new_df <- subset(data_frame_1, column_name == \"value_to_match\") "
   ]
  },
  {
   "cell_type": "code",
   "execution_count": 21,
   "metadata": {},
   "outputs": [],
   "source": [
    "# Remove columns\n",
    "# data_frame_1$column_name <- NULL"
   ]
  },
  {
   "cell_type": "code",
   "execution_count": 24,
   "metadata": {},
   "outputs": [],
   "source": [
    "# Do something to all rows that match a variable - in this example, set a different variable to 5\n",
    "# data_frame_1$variable_to_change[data_frame_1$variable_to_match == \"True\"] <- 5"
   ]
  },
  {
   "cell_type": "code",
   "execution_count": 25,
   "metadata": {},
   "outputs": [],
   "source": [
    "# Change the name of a column\n",
    "# colnames(column_name)[colnames(column_name)==\"current_name\"] <- \"new_name\""
   ]
  },
  {
   "cell_type": "code",
   "execution_count": 26,
   "metadata": {},
   "outputs": [],
   "source": [
    "# To turn off R's tendency to represent very small and very large numbers in scientific notation\n",
    "# options(scipen=999)\n",
    "\n",
    "# To restore to defaults\n",
    "# options(scipen=0)"
   ]
  },
  {
   "cell_type": "code",
   "execution_count": 27,
   "metadata": {},
   "outputs": [],
   "source": [
    "# Another way of removing rows with NAs\n",
    "# data_frame_1 <- na.omit(data_frame_1)"
   ]
  },
  {
   "cell_type": "code",
   "execution_count": 28,
   "metadata": {},
   "outputs": [],
   "source": [
    "# If we only need unique entries in a dataframe - I think it examines each row for uniqueness, not the first variable?\n",
    "# data_frame_1 <- unique(data_frame_1)"
   ]
  },
  {
   "cell_type": "code",
   "execution_count": 29,
   "metadata": {},
   "outputs": [],
   "source": [
    "# To order the dataframe by a specific variable (ascending)\n",
    "# data_frame_1 <- data_frame_1[order(data_frame_1$variable_to_order_on),]"
   ]
  },
  {
   "cell_type": "code",
   "execution_count": 30,
   "metadata": {},
   "outputs": [],
   "source": [
    "# K-means clustering code example\n",
    "# Chose which variables to use in clustering (also include a unique identifier which doesn't need to be used)\n",
    "# data_cluster <- data_frame_1[,c(\"var_1\", \"var_2\", \"var_3\", \"var_4\", \"var_5\")]\n",
    "\n",
    "# Actually perform the clustering\n",
    "# 2:5 selects which columns to cluster on (in this example, column 1 was the suburb name, so I clustered on cols 2,3,4,5)\n",
    "# 5 is the number of clusters to return - experiment with different numbers to see which gives best results\n",
    "# cluster_results <- kmeans(data_cluster[,2:5], 5)\n",
    "\n",
    "# Assign the relevant cluster number to each row in the dataframe\n",
    "# data_cluster$cluster <- as.factor(cluster_results$cluster)\n",
    "\n",
    "# Example on how to examine each cluster\n",
    "# indiv_cluster <- subset(data_cluster, cluster == \"1\")\n",
    "# head(indiv_cluster)\n",
    "# summary(indiv_cluster)\n",
    "\n",
    "# Do a scatterplot matrix to visualise the clustering\n",
    "# First line is just setting which colurs to use - make sure you have as many colours as you have clusters!\n",
    "# my_cols <- c(\"#00AFBB\", \"#E7B800\", \"#FC4E07\",\"#204dcf\", \"#19e02c\" )  \n",
    "# pairs(data_cluster[,2:5], col = my_cols[data_cluster$cluster])"
   ]
  }
 ],
 "metadata": {
  "kernelspec": {
   "display_name": "R",
   "language": "R",
   "name": "ir"
  },
  "language_info": {
   "codemirror_mode": "r",
   "file_extension": ".r",
   "mimetype": "text/x-r-source",
   "name": "R",
   "pygments_lexer": "r",
   "version": "3.4.3"
  }
 },
 "nbformat": 4,
 "nbformat_minor": 2
}
